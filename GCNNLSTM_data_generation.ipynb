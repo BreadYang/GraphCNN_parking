{
 "cells": [
  {
   "cell_type": "code",
   "execution_count": 1,
   "metadata": {
    "collapsed": true
   },
   "outputs": [],
   "source": [
    "%load_ext autoreload\n",
    "%autoreload 2"
   ]
  },
  {
   "cell_type": "code",
   "execution_count": 2,
   "metadata": {
    "collapsed": true
   },
   "outputs": [],
   "source": [
    "import torch\n",
    "from lstmgcnn import *\n",
    "import numpy as np"
   ]
  },
  {
   "cell_type": "code",
   "execution_count": 3,
   "metadata": {
    "collapsed": true
   },
   "outputs": [],
   "source": [
    "n = 1000\n",
    "V = 100\n",
    "L = torch.autograd.Variable(torch.randn(V, V))"
   ]
  },
  {
   "cell_type": "markdown",
   "metadata": {},
   "source": [
    "### D dataset"
   ]
  },
  {
   "cell_type": "code",
   "execution_count": 4,
   "metadata": {
    "collapsed": true
   },
   "outputs": [],
   "source": [
    "name = 'accident'\n",
    "D = 5\n",
    "num_hidden = 3\n",
    "num_output = 2\n",
    "config = {'name' : name, 'D': D, 'num_hidden':num_hidden, 'num_output': num_output}\n",
    "accident_data = one_dateset(torch.autograd.Variable(torch.randn(n, D)), name, 'D', config)"
   ]
  },
  {
   "cell_type": "markdown",
   "metadata": {},
   "source": [
    "### TD dataset"
   ]
  },
  {
   "cell_type": "code",
   "execution_count": 5,
   "metadata": {
    "collapsed": true
   },
   "outputs": [],
   "source": [
    "name = 'weather'\n",
    "D = 3\n",
    "T = 5\n",
    "num_layer = 2\n",
    "num_output = 1\n",
    "config = {'name' : name, 'D': D, 'T':T, 'num_layer': num_layer, 'num_output' : num_output}\n",
    "weather_data = one_dateset(torch.autograd.Variable(torch.randn(n, T, D)), name, 'TD', config)"
   ]
  },
  {
   "cell_type": "markdown",
   "metadata": {},
   "source": [
    "### VD dataset"
   ]
  },
  {
   "cell_type": "code",
   "execution_count": 6,
   "metadata": {
    "collapsed": true
   },
   "outputs": [],
   "source": [
    "name = 'avgflow'\n",
    "D = 3\n",
    "F = 30\n",
    "num_output = 10\n",
    "config = {'name' : name, 'D': D, 'V':V, 'L': L, 'F': F, 'num_output' : num_output}\n",
    "avgflow_data = one_dateset(torch.autograd.Variable(torch.randn(n, V, D)), name, 'VD', config)"
   ]
  },
  {
   "cell_type": "markdown",
   "metadata": {},
   "source": [
    "### VTD dataset"
   ]
  },
  {
   "cell_type": "code",
   "execution_count": 7,
   "metadata": {
    "collapsed": true
   },
   "outputs": [],
   "source": [
    "name = 'transaction'\n",
    "T = 5\n",
    "num_layer = 2\n",
    "D = 3\n",
    "F = 30\n",
    "num_hidden = 20\n",
    "num_output = 10\n",
    "config = {'name' : name, 'T': T, 'num_layer': num_layer, \n",
    "                  'D': D, 'V':V, 'L': L, 'F': F, \n",
    "                'num_output' : num_output, 'num_hidden' : num_hidden}\n",
    "transaction_data = one_dateset(torch.autograd.Variable(torch.randn(n, V, T, D)), name, 'VTD', config)"
   ]
  },
  {
   "cell_type": "markdown",
   "metadata": {},
   "source": [
    "### Y"
   ]
  },
  {
   "cell_type": "code",
   "execution_count": 8,
   "metadata": {
    "collapsed": true
   },
   "outputs": [],
   "source": [
    "y = torch.autograd.Variable(torch.randn(n, V))"
   ]
  },
  {
   "cell_type": "markdown",
   "metadata": {},
   "source": [
    "### After model"
   ]
  },
  {
   "cell_type": "code",
   "execution_count": 9,
   "metadata": {
    "collapsed": true
   },
   "outputs": [],
   "source": [
    "after_config = {'num_hidden' : 3}"
   ]
  },
  {
   "cell_type": "markdown",
   "metadata": {},
   "source": [
    "### build dataset"
   ]
  },
  {
   "cell_type": "code",
   "execution_count": 10,
   "metadata": {
    "collapsed": true
   },
   "outputs": [],
   "source": [
    "td = traffic_datesets()\n",
    "td.register_dateset(accident_data)\n",
    "td.register_dateset(weather_data)\n",
    "td.register_dateset(avgflow_data)\n",
    "td.register_dateset(transaction_data)\n",
    "td.register_target(y)"
   ]
  },
  {
   "cell_type": "code",
   "execution_count": 11,
   "metadata": {
    "collapsed": false
   },
   "outputs": [
    {
     "data": {
      "text/plain": [
       "OrderedDict([('accident', <lstmgcnn.one_dateset instance at 0x7fcd339c74d0>),\n",
       "             ('weather', <lstmgcnn.one_dateset instance at 0x7fcd339c7830>),\n",
       "             ('avgflow', <lstmgcnn.one_dateset instance at 0x7fcd339c79e0>),\n",
       "             ('transaction',\n",
       "              <lstmgcnn.one_dateset instance at 0x7fcd339ce4d0>)])"
      ]
     },
     "execution_count": 11,
     "metadata": {},
     "output_type": "execute_result"
    }
   ],
   "source": [
    "td.dataset_dict"
   ]
  },
  {
   "cell_type": "code",
   "execution_count": 12,
   "metadata": {
    "collapsed": false
   },
   "outputs": [
    {
     "name": "stdout",
     "output_type": "stream",
     "text": [
      "Building the model...\n",
      "Init...\n",
      "Start Training...\n",
      "Epoch  0 Training loss:  2.84914817429\n",
      "Epoch  0 Testing loss:  1.01146\n",
      "Epoch  1 Training loss:  1.00579630142\n",
      "Epoch  1 Testing loss:  1.00451\n",
      "Epoch  2 Training loss:  1.00431920356\n",
      "Epoch  2 Testing loss:  1.00423\n",
      "Epoch  3 Training loss:  1.00425009912\n",
      "Epoch  3 Testing loss:  1.00425\n",
      "Epoch  4 Training loss:  1.00427876735\n",
      "Epoch  4 Testing loss:  1.00423\n",
      "Epoch  5 Training loss:  1.00431740868\n",
      "Epoch  5 Testing loss:  1.00417\n",
      "Epoch  6 Training loss:  1.00423386395\n",
      "Epoch  6 Testing loss:  1.00401\n",
      "Epoch  7 Training loss:  1.00408833444\n",
      "Epoch  7 Testing loss:  1.00402\n",
      "Epoch  8 Training loss:  1.00411180717\n",
      "Epoch  8 Testing loss:  1.00409\n",
      "Epoch  9 Training loss:  1.00407535511\n",
      "Epoch  9 Testing loss:  1.00401\n"
     ]
    },
    {
     "data": {
      "text/plain": [
       "(parking_prediction (\n",
       "   (after_model): Sequential (\n",
       "     (0): Linear (23 -> 3)\n",
       "     (1): ReLU ()\n",
       "     (2): Linear (3 -> 1)\n",
       "   )\n",
       " ),\n",
       " [[2.8491481742858888,\n",
       "   1.0057963014245033,\n",
       "   1.0043192035555839,\n",
       "   1.0042500991225243,\n",
       "   1.0042787673473359,\n",
       "   1.0043174086809159,\n",
       "   1.0042338639497757,\n",
       "   1.0040883344411851,\n",
       "   1.0041118071675301,\n",
       "   1.0040753551125527],\n",
       "  [1.0114595,\n",
       "   1.0045077,\n",
       "   1.0042319,\n",
       "   1.004248,\n",
       "   1.0042257,\n",
       "   1.0041729,\n",
       "   1.0040126,\n",
       "   1.0040247,\n",
       "   1.004095,\n",
       "   1.0040104]])"
      ]
     },
     "execution_count": 12,
     "metadata": {},
     "output_type": "execute_result"
    }
   ],
   "source": [
    "train(td, td, V, after_config, num_epoch = 10, learning_rate = 0.1, verbose = True, use_GPU = True)"
   ]
  }
 ],
 "metadata": {
  "kernelspec": {
   "display_name": "Python 2",
   "language": "python",
   "name": "python2"
  },
  "language_info": {
   "codemirror_mode": {
    "name": "ipython",
    "version": 2
   },
   "file_extension": ".py",
   "mimetype": "text/x-python",
   "name": "python",
   "nbconvert_exporter": "python",
   "pygments_lexer": "ipython2",
   "version": "2.7.13"
  }
 },
 "nbformat": 4,
 "nbformat_minor": 2
}
